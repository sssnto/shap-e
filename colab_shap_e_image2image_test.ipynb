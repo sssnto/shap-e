{
  "nbformat": 4,
  "nbformat_minor": 0,
  "metadata": {
    "colab": {
      "provenance": [],
      "gpuType": "T4",
      "authorship_tag": "ABX9TyNkHabCG7AXbkZy2s5AaVaO",
      "include_colab_link": true
    },
    "kernelspec": {
      "name": "python3",
      "display_name": "Python 3"
    },
    "language_info": {
      "name": "python"
    },
    "accelerator": "GPU"
  },
  "cells": [
    {
      "cell_type": "markdown",
      "metadata": {
        "id": "view-in-github",
        "colab_type": "text"
      },
      "source": [
        "<a href=\"https://colab.research.google.com/github/sssnto/shap-e/blob/main/colab_shap_e_image2image_test.ipynb\" target=\"_parent\"><img src=\"https://colab.research.google.com/assets/colab-badge.svg\" alt=\"Open In Colab\"/></a>"
      ]
    },
    {
      "cell_type": "code",
      "execution_count": null,
      "metadata": {
        "id": "x9FMmeo0ji-7"
      },
      "outputs": [],
      "source": [
        "#下载git包， 安装依赖库\n",
        "!pip install git+https://github.com/openai/shap-e"
      ]
    },
    {
      "cell_type": "code",
      "source": [
        "# 引用相关依赖\n",
        "import torch\n",
        "\n",
        "from shap_e.diffusion.sample import sample_latents\n",
        "from shap_e.diffusion.gaussian_diffusion import diffusion_from_config\n",
        "from shap_e.models.download import load_model, load_config\n",
        "from shap_e.util.notebooks import create_pan_cameras, decode_latent_images, gif_widget\n",
        "from shap_e.util.image_util import load_image"
      ],
      "metadata": {
        "id": "cnAQHovkjxSZ"
      },
      "execution_count": 2,
      "outputs": []
    },
    {
      "cell_type": "code",
      "source": [
        "# 挂载驱动\n",
        "device = torch.device('cuda' if torch.cuda.is_available() else 'cpu')"
      ],
      "metadata": {
        "id": "l-nBecaEkBBX"
      },
      "execution_count": null,
      "outputs": []
    },
    {
      "cell_type": "code",
      "source": [
        "#加载图片模型\n",
        "xm = load_model('transmitter', device=device)\n",
        "model = load_model('image300M', device=device)\n",
        "diffusion = diffusion_from_config(load_config('diffusion'))\n",
        "#%%"
      ],
      "metadata": {
        "id": "IAnzMK9wkFKK"
      },
      "execution_count": null,
      "outputs": []
    },
    {
      "cell_type": "code",
      "source": [
        "# 信息输入\n",
        "batch_size = 4\n",
        "guidance_scale = 3.0\n",
        "\n",
        "# To get the best result, you should remove the background and show only the object of interest to the model.\n",
        "image = load_image(\"example_data/corgi.png\")\n",
        "\n",
        "latents = sample_latents(\n",
        "    batch_size=batch_size,\n",
        "    model=model,\n",
        "    diffusion=diffusion,\n",
        "    guidance_scale=guidance_scale,\n",
        "    model_kwargs=dict(images=[image] * batch_size),\n",
        "    progress=True,\n",
        "    clip_denoised=True,\n",
        "    use_fp16=True,\n",
        "    use_karras=True,\n",
        "    karras_steps=64,\n",
        "    sigma_min=1e-3,\n",
        "    sigma_max=160,\n",
        "    s_churn=0,\n",
        ")"
      ],
      "metadata": {
        "id": "NWNN0ySXkMGK"
      },
      "execution_count": null,
      "outputs": []
    },
    {
      "cell_type": "code",
      "source": [
        "# 生成模型\n",
        "render_mode = 'nerf' # you can change this to 'stf' for mesh rendering\n",
        "size = 64 # this is the size of the renders; higher values take longer to render.\n",
        "\n",
        "cameras = create_pan_cameras(size, device)\n",
        "for i, latent in enumerate(latents):\n",
        "    images = decode_latent_images(xm, latent, cameras, rendering_mode=render_mode)\n",
        "    display(gif_widget(images))"
      ],
      "metadata": {
        "id": "jvvsqoq4kSSq"
      },
      "execution_count": null,
      "outputs": []
    }
  ]
}